{
 "cells": [
  {
   "cell_type": "code",
   "execution_count": 1,
   "metadata": {},
   "outputs": [
    {
     "name": "stdout",
     "output_type": "stream",
     "text": [
      "[{'dtype': <class 'numpy.uint8'>,\n",
      "  'index': 0,\n",
      "  'name': 'input_1',\n",
      "  'quantization': (0.0, 0),\n",
      "  'quantization_parameters': {'quantized_dimension': 0,\n",
      "                              'scales': array([], dtype=float32),\n",
      "                              'zero_points': array([], dtype=int32)},\n",
      "  'shape': array([  1, 224, 224,   3], dtype=int32),\n",
      "  'shape_signature': array([ -1, 224, 224,   3], dtype=int32),\n",
      "  'sparsity_parameters': {}}]\n"
     ]
    }
   ],
   "source": [
    "import tensorflow as tf\n",
    "import matplotlib.pylab as plt\n",
    "import cv2\n",
    "import numpy as np\n",
    "\n",
    "tflite_model_file = 'tflite/0629_epoch300/openpose_singlenet.tflite'\n",
    "\n",
    "interpreter = tf.lite.Interpreter(model_path=tflite_model_file)\n",
    "\n",
    "inp_index = interpreter.get_input_details()[0][\"index\"]\n",
    "\n",
    "out_details = sorted(interpreter.get_output_details(), key=lambda k: k['index']) \n",
    "\n",
    "heatmap_idx = out_details[-1][\"index\"]\n",
    "paf_idx = out_details[-2][\"index\"]\n",
    "\n",
    "tf.print(interpreter.get_input_details())"
   ]
  },
  {
   "cell_type": "markdown",
   "metadata": {},
   "source": [
    "# Load sample image and run the model"
   ]
  },
  {
   "cell_type": "code",
   "execution_count": 2,
   "metadata": {},
   "outputs": [],
   "source": [
    "test_image = 'resources/ski_224.jpg'\n",
    "\n",
    "img = cv2.imread(test_image) # B,G,R order\n",
    "img = np.expand_dims(img, 0)\n",
    "\n",
    "input_tensor= tf.convert_to_tensor(img, np.uint8)\n",
    "\n",
    "interpreter.allocate_tensors()\n",
    "\n",
    "interpreter.set_tensor(inp_index, input_tensor)\n",
    "\n",
    "interpreter.invoke()\n",
    "\n",
    "heatmaps = interpreter.get_tensor(heatmap_idx)\n",
    "pafs = interpreter.get_tensor(paf_idx)"
   ]
  },
  {
   "cell_type": "markdown",
   "metadata": {},
   "source": [
    "# Show predictions: paf and heatmap"
   ]
  },
  {
   "cell_type": "code",
   "execution_count": 3,
   "metadata": {},
   "outputs": [
    {
     "data": {
      "text/plain": [
       "<matplotlib.image.AxesImage at 0x7f6ea8543a10>"
      ]
     },
     "execution_count": 3,
     "metadata": {},
     "output_type": "execute_result"
    },
    {
     "data": {
      "image/png": "[encoded data removed]",
      "text/plain": [
       "<Figure size 432x288 with 1 Axes>"
      ]
     },
     "metadata": {
      "needs_background": "light"
     },
     "output_type": "display_data"
    }
   ],
   "source": [
    "heatmap_idx = 0 # nose\n",
    "\n",
    "plt.imshow(heatmaps[0, :, :, heatmap_idx], cmap='gray')"
   ]
  },
  {
   "cell_type": "code",
   "execution_count": 4,
   "metadata": {},
   "outputs": [
    {
     "data": {
      "text/plain": [
       "<matplotlib.image.AxesImage at 0x7f6ea84ad590>"
      ]
     },
     "execution_count": 4,
     "metadata": {},
     "output_type": "execute_result"
    },
    {
     "data": {
      "image/png": "[encoded data removed]",
      "text/plain": [
       "<Figure size 432x288 with 1 Axes>"
      ]
     },
     "metadata": {
      "needs_background": "light"
     },
     "output_type": "display_data"
    }
   ],
   "source": [
    "paf_dx_idx = 0\n",
    "paf_dy_idx = 1\n",
    "\n",
    "plt.imshow(pafs[0, :, :, paf_dx_idx], cmap='gray')"
   ]
  },
  {
   "cell_type": "code",
   "execution_count": 5,
   "metadata": {},
   "outputs": [
    {
     "data": {
      "text/plain": [
       "<matplotlib.image.AxesImage at 0x7f6ea841dc10>"
      ]
     },
     "execution_count": 5,
     "metadata": {},
     "output_type": "execute_result"
    },
    {
     "data": {
      "image/png": "[encoded data removed]",
      "text/plain": [
       "<Figure size 432x288 with 1 Axes>"
      ]
     },
     "metadata": {
      "needs_background": "light"
     },
     "output_type": "display_data"
    }
   ],
   "source": [
    "plt.imshow(pafs[0, :, :, paf_dy_idx], cmap='gray')"
   ]
  },
  {
   "cell_type": "code",
   "execution_count": null,
   "metadata": {},
   "outputs": [],
   "source": []
  }
 ],
 "metadata": {
  "kernelspec": {
   "display_name": "Python 3",
   "language": "python",
   "name": "python3"
  },
  "language_info": {
   "codemirror_mode": {
    "name": "ipython",
    "version": 3
   },
   "file_extension": ".py",
   "mimetype": "text/x-python",
   "name": "python",
   "nbconvert_exporter": "python",
   "pygments_lexer": "ipython3",
   "version": "3.7.10"
  }
 },
 "nbformat": 4,
 "nbformat_minor": 2
}
